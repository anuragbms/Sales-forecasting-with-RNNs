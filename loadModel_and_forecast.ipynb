{
 "cells": [
  {
   "cell_type": "code",
   "execution_count": 1,
   "metadata": {},
   "outputs": [],
   "source": [
    "#################################\n",
    "#\n",
    "# This notebook loads a previous trained RNN model and provides forecasts from the validation data\n",
    "#\n",
    "# Author: Anurag Dwarakanath\n",
    "#\n",
    "#################################"
   ]
  },
  {
   "cell_type": "code",
   "execution_count": 2,
   "metadata": {},
   "outputs": [],
   "source": [
    "import tensorflow as tf\n",
    "from tensorflow.python.saved_model import tag_constants\n",
    "import pandas as pd\n",
    "import numpy as np"
   ]
  },
  {
   "cell_type": "code",
   "execution_count": 3,
   "metadata": {},
   "outputs": [],
   "source": [
    "# Constants\n",
    "DATAFILE_VALIDATE = \"/home/ubuntu/anurag/rnn/mock_kaggle_edit_validate.csv\"\n",
    "\n",
    "TRAINED_MODEL_PATH = '/home/ubuntu/anurag/rnn/savedModel'\n",
    "\n",
    "TIME_STEPS = 10 # i.e. look at the past 10 days and forecast\n",
    "NUMBER_OF_DAYS_TO_FORECAST = 1 # for now we will only forecast the next day's sales\n",
    "\n",
    "BATCH_SIZE=100"
   ]
  },
  {
   "cell_type": "code",
   "execution_count": 4,
   "metadata": {},
   "outputs": [],
   "source": [
    "# Data from training (used in normalisation)\n",
    "# To-Do: save these values in the graph\n",
    "MIN = 0\n",
    "RANGE = 542"
   ]
  },
  {
   "cell_type": "code",
   "execution_count": 5,
   "metadata": {},
   "outputs": [],
   "source": [
    "# Prepare the validation data\n",
    "data_validate = pd.read_csv(DATAFILE_VALIDATE)\n",
    "\n",
    "numValidationData = len(data_validate)\n",
    "\n",
    "validationData_sales = data_validate['sales'][0: numValidationData]"
   ]
  },
  {
   "cell_type": "code",
   "execution_count": 6,
   "metadata": {},
   "outputs": [
    {
     "name": "stdout",
     "output_type": "stream",
     "text": [
      "187\n"
     ]
    }
   ],
   "source": [
    "print(len(validationData_sales))"
   ]
  },
  {
   "cell_type": "code",
   "execution_count": 7,
   "metadata": {},
   "outputs": [],
   "source": [
    "validationData_sales_normalised = [(i - MIN)/RANGE for i in validationData_sales]"
   ]
  },
  {
   "cell_type": "code",
   "execution_count": 8,
   "metadata": {},
   "outputs": [],
   "source": [
    "# Build the seqeunces for validation\n",
    "validationDataSequence_sales = np.zeros(shape=(len(validationData_sales) - TIME_STEPS - NUMBER_OF_DAYS_TO_FORECAST + 1, TIME_STEPS, 1 ))\n",
    "validationDataSequence_sales_target = np.zeros(shape=(len(validationData_sales) - TIME_STEPS - NUMBER_OF_DAYS_TO_FORECAST + 1, NUMBER_OF_DAYS_TO_FORECAST))\n",
    "\n",
    "start = 0\n",
    "for i in range(TIME_STEPS, len(validationData_sales)-NUMBER_OF_DAYS_TO_FORECAST + 1):\n",
    "    validationDataSequence_sales[start, :, 0] = validationData_sales_normalised[start:i]\n",
    "    validationDataSequence_sales_target[start] = validationData_sales_normalised[i:i+NUMBER_OF_DAYS_TO_FORECAST]\n",
    "    start+=1"
   ]
  },
  {
   "cell_type": "code",
   "execution_count": 13,
   "metadata": {},
   "outputs": [
    {
     "data": {
      "text/plain": [
       "(177, 1)"
      ]
     },
     "execution_count": 13,
     "metadata": {},
     "output_type": "execute_result"
    }
   ],
   "source": [
    "validationDataSequence_sales_target.shape"
   ]
  },
  {
   "cell_type": "code",
   "execution_count": 18,
   "metadata": {},
   "outputs": [
    {
     "name": "stdout",
     "output_type": "stream",
     "text": [
      "Loading the model from: /home/ubuntu/anurag/rnn/savedModel\n",
      "INFO:tensorflow:Restoring parameters from /home/ubuntu/anurag/rnn/savedModel/variables/variables\n",
      "first five predictions (original scale): [[ 95.47283 ]\n",
      " [102.156944]\n",
      " [ 96.92697 ]\n",
      " [ 71.71785 ]\n",
      " [107.76063 ]]\n",
      "first five actuals (original scale)    : [[ 85.]\n",
      " [ 78.]\n",
      " [ 71.]\n",
      " [113.]\n",
      " [138.]]\n",
      "Validation complete. Total loss: 0.040862228721380234\n"
     ]
    }
   ],
   "source": [
    "with tf.Session() as sess:\n",
    "    print('Loading the model from:', TRAINED_MODEL_PATH)\n",
    "    tf.saved_model.loader.load(sess=sess, export_dir=TRAINED_MODEL_PATH, tags=[tag_constants.SERVING])\n",
    "    \n",
    "    #print([n.name for n in tf.get_default_graph().as_graph_def().node])\n",
    "    \n",
    "    inputSequence = tf.get_default_graph().get_tensor_by_name('inputSequencePlaceholder:0')\n",
    "    targetForecast = tf.get_default_graph().get_tensor_by_name('targetPlaceholder:0')\n",
    "    \n",
    "    loss = tf.get_default_graph().get_tensor_by_name('loss_comp:0')\n",
    "    forecast_originalScale = tf.get_default_graph().get_tensor_by_name('forecast_original_scale:0')\n",
    "    \n",
    "    startLoc = 0\n",
    "    totalLoss = 0\n",
    "    for i in range(0, len(validationDataSequence_sales)//BATCH_SIZE):\n",
    "        sequence = validationDataSequence_sales[startLoc: startLoc + BATCH_SIZE, :, :]\n",
    "        target = validationDataSequence_sales_target[startLoc: startLoc + BATCH_SIZE]\n",
    "        fcast, ls = sess.run([forecast_originalScale, loss], feed_dict={inputSequence: sequence, targetForecast: target})\n",
    "        \n",
    "        print('first five predictions (original scale):', fcast[0:5])\n",
    "        print('first five actuals (original scale)    :', target[0:5]*RANGE + MIN)\n",
    "        totalLoss += ls\n",
    "        startLoc += BATCH_SIZE\n",
    "    \n",
    "    if (startLoc < len(validationDataSequence_sales)):\n",
    "        sequence = validationDataSequence_sales[startLoc:]\n",
    "        target = validationDataSequence_sales_target[startLoc:]\n",
    "        fcast, ls = sess.run([forecast_originalScale, loss], feed_dict={inputSequence: sequence, targetForecast: target})\n",
    "        totalLoss += ls \n",
    "    \n",
    "    print('Validation complete. Total loss:', totalLoss)"
   ]
  },
  {
   "cell_type": "code",
   "execution_count": null,
   "metadata": {},
   "outputs": [],
   "source": []
  },
  {
   "cell_type": "code",
   "execution_count": null,
   "metadata": {},
   "outputs": [],
   "source": []
  }
 ],
 "metadata": {
  "kernelspec": {
   "display_name": "Python 3",
   "language": "python",
   "name": "python3"
  },
  "language_info": {
   "codemirror_mode": {
    "name": "ipython",
    "version": 3
   },
   "file_extension": ".py",
   "mimetype": "text/x-python",
   "name": "python",
   "nbconvert_exporter": "python",
   "pygments_lexer": "ipython3",
   "version": "3.6.6"
  }
 },
 "nbformat": 4,
 "nbformat_minor": 2
}
